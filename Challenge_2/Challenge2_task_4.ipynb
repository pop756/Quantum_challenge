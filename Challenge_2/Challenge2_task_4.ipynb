{
 "cells": [
  {
   "cell_type": "code",
   "execution_count": 1,
   "metadata": {},
   "outputs": [],
   "source": [
    "from qiskit import *\n",
    "import numpy as np\n",
    "from qiskit.circuit.library import MCXGate\n",
    "from qiskit.primitives import *"
   ]
  },
  {
   "cell_type": "markdown",
   "metadata": {},
   "source": [
    "Because my code can only encode the value that is integer, We have to change the value \n",
    "\n",
    "And also our lattice size is 2^n * 2^n, so it is needed to add padding."
   ]
  },
  {
   "cell_type": "code",
   "execution_count": 11,
   "metadata": {},
   "outputs": [
    {
     "name": "stdout",
     "output_type": "stream",
     "text": [
      "[[ 0  5  0  0]\n",
      " [ 8 10  8  0]\n",
      " [ 0  5  0  0]\n",
      " [ 0  0  0  0]]\n"
     ]
    }
   ],
   "source": [
    "input_value = np.array([[0,0.5,0],[0.8,1,0.8],[0,0.5,0]])\n",
    "modif_value = input_value*10\n",
    "modif_value = list(modif_value)\n",
    "for index,i in enumerate(modif_value):\n",
    "    while(len(i))<4:\n",
    "        i = list(i)\n",
    "        i.append(0.)\n",
    "    modif_value[index] = i\n",
    "    \n",
    "modif_value.append([0.]*4)\n",
    "modif_value = np.array(modif_value,dtype=int)\n",
    "print(modif_value)"
   ]
  },
  {
   "cell_type": "code",
   "execution_count": 14,
   "metadata": {},
   "outputs": [],
   "source": [
    "def data_in_bit(inputs):\n",
    "    res = []\n",
    "    for i in inputs:\n",
    "        temp = []\n",
    "        for j in i:\n",
    "            binary = format(j,'b').zfill(4)\n",
    "            binary = reverse_str(binary)\n",
    "            temp.append(binary)\n",
    "        res.append(temp)\n",
    "    return np.array(res)\n",
    "def reverse_str(str_):\n",
    "    res = ''\n",
    "    for i in range(len(str_)):\n",
    "        res = res + str_[-i-1]\n",
    "    return res"
   ]
  },
  {
   "cell_type": "code",
   "execution_count": 15,
   "metadata": {},
   "outputs": [
    {
     "name": "stdout",
     "output_type": "stream",
     "text": [
      "[['0000' '1010' '0000' '0000']\n",
      " ['0001' '0101' '0001' '0000']\n",
      " ['0000' '1010' '0000' '0000']\n",
      " ['0000' '0000' '0000' '0000']]\n"
     ]
    }
   ],
   "source": [
    "## Change the data into binary form\n",
    "binary_inputs = data_in_bit(modif_value)\n",
    "print(binary_inputs)"
   ]
  },
  {
   "cell_type": "code",
   "execution_count": 16,
   "metadata": {},
   "outputs": [],
   "source": [
    "X_index = QuantumRegister(2,name='X_layer')\n",
    "Y_index = QuantumRegister(2,name='Y_layer')\n",
    "coeffs = QuantumRegister(4,name='coeffs_layer')\n",
    "\n",
    "qc = QuantumCircuit(X_index,Y_index,coeffs)\n",
    "qc.draw('mpl')\n",
    "\n",
    "for i in range(2):\n",
    "    qc.h(X_index[i])\n",
    "for i in range(2):\n",
    "    qc.h(Y_index[i])\n",
    "\n",
    "for i in range(4):\n",
    "    for j in range(4):\n",
    "        X_idx = format(i,'b').zfill(2)\n",
    "        Y_idx = format(j,'b').zfill(2)\n",
    "        coeff = binary_inputs[i][j]\n",
    "        gate = MCXGate(4,ctrl_state=X_idx+Y_idx)\n",
    "        for index,k in enumerate(coeff):\n",
    "            if k == '1':\n",
    "                qc.append(gate,X_index[:]+Y_index[:]+[coeffs[index]])\n",
    "        qc.barrier()\n",
    "qc.measure_all()"
   ]
  },
  {
   "cell_type": "code",
   "execution_count": 17,
   "metadata": {},
   "outputs": [
    {
     "name": "stdout",
     "output_type": "stream",
     "text": [
      "{'00000000': 0.0625, '00000010': 0.0625, '00000011': 0.0625, '00000111': 0.0625, '00001000': 0.0625, '00001010': 0.0625, '00001011': 0.0625, '00001100': 0.0625, '00001101': 0.0625, '00001110': 0.0625, '00001111': 0.0625, '01010001': 0.0625, '01011001': 0.0625, '10000100': 0.0625, '10000110': 0.0625, '10100101': 0.0625}\n"
     ]
    }
   ],
   "source": [
    "sampler = Sampler()\n",
    "\n",
    "result = sampler.run(qc).result().quasi_dists[0]\n",
    "binary_dict = {}\n",
    "\n",
    "for i in result.keys():\n",
    "    binary_dict[format(i,'b').zfill(8)] = result[i]\n",
    "\n",
    "print(binary_dict)"
   ]
  },
  {
   "cell_type": "code",
   "execution_count": 22,
   "metadata": {},
   "outputs": [
    {
     "name": "stdout",
     "output_type": "stream",
     "text": [
      "Decoded result :\n",
      " [[0.  0.5 0.  0. ]\n",
      " [0.8 1.  0.8 0. ]\n",
      " [0.  0.5 0.  0. ]\n",
      " [0.  0.  0.  0. ]]\n",
      "\n",
      "\n",
      "initial input :\n",
      " [[0.  0.5 0. ]\n",
      " [0.8 1.  0.8]\n",
      " [0.  0.5 0. ]]\n",
      "\n",
      "\n",
      "The result is same\n"
     ]
    }
   ],
   "source": [
    "## From this result we can re construct the input\n",
    "decoded_result = []\n",
    "for i in range(4):\n",
    "    temp = []\n",
    "    for j in range(4):\n",
    "        X_idx = format(i,'b').zfill(2)\n",
    "        Y_idx = format(j,'b').zfill(2)\n",
    "        key = X_idx+Y_idx\n",
    "        \n",
    "        for k in binary_dict.keys():\n",
    "            if k[4:] == key:\n",
    "                temp.append(int(k[:4],2))\n",
    "    decoded_result.append(temp)        \n",
    "decoded_result = np.array(decoded_result)/10\n",
    "print('Decoded result :\\n',decoded_result) \n",
    "print('\\n')\n",
    "print('initial input :\\n', input_value)\n",
    "print('\\n')\n",
    "print('The result is same')"
   ]
  }
 ],
 "metadata": {
  "kernelspec": {
   "display_name": "Lee",
   "language": "python",
   "name": "python3"
  },
  "language_info": {
   "codemirror_mode": {
    "name": "ipython",
    "version": 3
   },
   "file_extension": ".py",
   "mimetype": "text/x-python",
   "name": "python",
   "nbconvert_exporter": "python",
   "pygments_lexer": "ipython3",
   "version": "3.11.4"
  }
 },
 "nbformat": 4,
 "nbformat_minor": 2
}
