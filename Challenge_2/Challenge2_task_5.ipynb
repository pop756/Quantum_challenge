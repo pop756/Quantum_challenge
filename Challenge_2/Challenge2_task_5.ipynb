{
 "cells": [
  {
   "cell_type": "code",
   "execution_count": 5,
   "metadata": {},
   "outputs": [],
   "source": [
    "from qiskit import *\n",
    "import numpy as np\n",
    "from qiskit.circuit.library import MCXGate\n",
    "from qiskit.primitives import *\n",
    "import numpy as np\n",
    "import matplotlib.pyplot as plt"
   ]
  },
  {
   "cell_type": "code",
   "execution_count": 3,
   "metadata": {},
   "outputs": [],
   "source": [
    "image = np.load('images_test_100.npy')"
   ]
  },
  {
   "cell_type": "code",
   "execution_count": 8,
   "metadata": {},
   "outputs": [
    {
     "data": {
      "text/plain": [
       "<matplotlib.image.AxesImage at 0x20f67ae9f10>"
      ]
     },
     "execution_count": 8,
     "metadata": {},
     "output_type": "execute_result"
    },
    {
     "data": {
      "image/png": "[encoded data removed]",
      "text/plain": [
       "<Figure size 640x480 with 1 Axes>"
      ]
     },
     "metadata": {},
     "output_type": "display_data"
    }
   ],
   "source": [
    "plt.imshow(image[1])"
   ]
  },
  {
   "cell_type": "markdown",
   "metadata": {},
   "source": [
    "This data has 28*28 size.\n",
    "\n",
    "So, to use my method, it is needed 5 qubits for X index and 5 qubits for Y index.\n",
    "\n",
    "That is not ideal so I'm gonna cut off this image into 4*4\n",
    "\n",
    "And intensity value is 0~255.\n",
    "\n",
    "This makes need that 8 qubits.\n",
    "\n",
    "That is also to large, so I'm gonna reduce this to 0~64"
   ]
  },
  {
   "cell_type": "code",
   "execution_count": 15,
   "metadata": {},
   "outputs": [],
   "source": [
    "test_image = image[1]\n",
    "\n",
    "quantum_input = test_image.reshape(7,7,4,4)\n",
    "quantum_input = np.array(quantum_input/4,dtype=int)"
   ]
  },
  {
   "cell_type": "code",
   "execution_count": 16,
   "metadata": {},
   "outputs": [],
   "source": [
    "def data_in_bit(inputs):\n",
    "    res = []\n",
    "    for i in inputs:\n",
    "        temp = []\n",
    "        for j in i:\n",
    "            binary = format(j,'b').zfill(4)\n",
    "            binary = reverse_str(binary)\n",
    "            temp.append(binary)\n",
    "        res.append(temp)\n",
    "    return np.array(res)"
   ]
  },
  {
   "cell_type": "code",
   "execution_count": 17,
   "metadata": {},
   "outputs": [],
   "source": [
    "def reverse_str(str_):\n",
    "    res = ''\n",
    "    for i in range(len(str_)):\n",
    "        res = res + str_[-i-1]\n",
    "    return res"
   ]
  },
  {
   "cell_type": "code",
   "execution_count": 18,
   "metadata": {},
   "outputs": [],
   "source": [
    "X_index = QuantumRegister(2,name='X_layer')\n",
    "Y_index = QuantumRegister(2,name='Y_layer')\n",
    "coeffs = QuantumRegister(6,name='coeffs_layer')\n",
    "\n",
    "\n",
    "qc_layers = []\n",
    "for z in range(7):\n",
    "    temp_layer = []\n",
    "    for m in range(7):\n",
    "        binary_inputs = data_in_bit(quantum_input[z][m])\n",
    "        qc = QuantumCircuit(X_index,Y_index,coeffs)\n",
    "        qc.draw('mpl')\n",
    "\n",
    "        for i in range(2):\n",
    "            qc.h(X_index[i])\n",
    "        for i in range(2):\n",
    "            qc.h(Y_index[i])\n",
    "\n",
    "        for i in range(4):\n",
    "            for j in range(4):\n",
    "                X_idx = format(i,'b').zfill(2)\n",
    "                Y_idx = format(j,'b').zfill(2)\n",
    "                coeff = binary_inputs[i][j]\n",
    "                gate = MCXGate(4,ctrl_state=X_idx+Y_idx)\n",
    "                for index,k in enumerate(coeff):\n",
    "                    if k == '1':\n",
    "                        qc.append(gate,X_index[:]+Y_index[:]+[coeffs[index]])\n",
    "                qc.barrier()\n",
    "        qc.measure_all()\n",
    "            \n"
   ]
  },
  {
   "cell_type": "code",
   "execution_count": null,
   "metadata": {},
   "outputs": [],
   "source": []
  }
 ],
 "metadata": {
  "kernelspec": {
   "display_name": "Lee",
   "language": "python",
   "name": "python3"
  },
  "language_info": {
   "codemirror_mode": {
    "name": "ipython",
    "version": 3
   },
   "file_extension": ".py",
   "mimetype": "text/x-python",
   "name": "python",
   "nbconvert_exporter": "python",
   "pygments_lexer": "ipython3",
   "version": "3.11.4"
  }
 },
 "nbformat": 4,
 "nbformat_minor": 2
}
