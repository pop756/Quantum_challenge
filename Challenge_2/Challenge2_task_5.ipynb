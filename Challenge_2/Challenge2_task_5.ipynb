{
 "cells": [
  {
   "cell_type": "code",
   "execution_count": 1,
   "metadata": {},
   "outputs": [],
   "source": [
    "from qiskit import *\n",
    "import numpy as np\n",
    "from qiskit.circuit.library import MCXGate\n",
    "from qiskit.primitives import *\n",
    "import numpy as np\n",
    "import matplotlib.pyplot as plt"
   ]
  },
  {
   "cell_type": "code",
   "execution_count": 2,
   "metadata": {},
   "outputs": [],
   "source": [
    "image = np.load('./data/images_test_100.npy')"
   ]
  },
  {
   "cell_type": "code",
   "execution_count": 3,
   "metadata": {},
   "outputs": [
    {
     "data": {
      "text/plain": [
       "<matplotlib.image.AxesImage at 0x7f94ac182440>"
      ]
     },
     "execution_count": 3,
     "metadata": {},
     "output_type": "execute_result"
    },
    {
     "data": {
      "image/png": "[encoded data removed]",
      "text/plain": [
       "<Figure size 640x480 with 1 Axes>"
      ]
     },
     "metadata": {},
     "output_type": "display_data"
    }
   ],
   "source": [
    "plt.imshow(image[1])"
   ]
  },
  {
   "cell_type": "markdown",
   "metadata": {},
   "source": [
    "This data has 28*28 size.\n",
    "\n",
    "So, to use my method, it is needed 5 qubits for X index and 5 qubits for Y index.\n",
    "\n",
    "That is not ideal so I'm gonna cut off this image into 4*4\n",
    "\n",
    "And intensity value is 0~255.\n",
    "\n",
    "This makes need that 8 qubits.\n",
    "\n",
    "That is also to large, so I'm gonna reduce this to 0~64"
   ]
  },
  {
   "cell_type": "code",
   "execution_count": 4,
   "metadata": {},
   "outputs": [],
   "source": [
    "test_image = image[1]\n",
    "\n",
    "quantum_input = test_image.reshape(7,7,4,4)\n",
    "quantum_input = np.array(quantum_input/4,dtype=int)"
   ]
  },
  {
   "cell_type": "code",
   "execution_count": 5,
   "metadata": {},
   "outputs": [],
   "source": [
    "def data_in_bit(inputs):\n",
    "    res = []\n",
    "    for i in inputs:\n",
    "        temp = []\n",
    "        for j in i:\n",
    "            binary = format(j,'b').zfill(4)\n",
    "            binary = reverse_str(binary)\n",
    "            temp.append(binary)\n",
    "        res.append(temp)\n",
    "    return np.array(res)"
   ]
  },
  {
   "cell_type": "code",
   "execution_count": 6,
   "metadata": {},
   "outputs": [],
   "source": [
    "def reverse_str(str_):\n",
    "    res = ''\n",
    "    for i in range(len(str_)):\n",
    "        res = res + str_[-i-1]\n",
    "    return res"
   ]
  },
  {
   "cell_type": "code",
   "execution_count": 9,
   "metadata": {},
   "outputs": [
    {
     "name": "stderr",
     "output_type": "stream",
     "text": [
      "/home/yslee/.local/lib/python3.10/site-packages/qiskit/visualization/circuit/matplotlib.py:266: FutureWarning: The default matplotlib drawer scheme will be changed to \"iqp\" in a following release. To silence this warning, specify the current default explicitly as style=\"clifford\", or the new default as style=\"iqp\".\n",
      "  self._style, def_font_ratio = load_style(self._style)\n"
     ]
    }
   ],
   "source": [
    "X_index = QuantumRegister(2,name='X_layer')\n",
    "Y_index = QuantumRegister(2,name='Y_layer')\n",
    "coeffs = QuantumRegister(6,name='coeffs_layer')\n",
    "\n",
    "\n",
    "qc_layers = []\n",
    "for z in range(7):\n",
    "    temp_layer = []\n",
    "    for m in range(7):\n",
    "        binary_inputs = data_in_bit(quantum_input[z][m])\n",
    "        qc = QuantumCircuit(X_index,Y_index,coeffs)\n",
    "        qc.draw('mpl')\n",
    "\n",
    "        for i in range(2):\n",
    "            qc.h(X_index[i])\n",
    "        for i in range(2):\n",
    "            qc.h(Y_index[i])\n",
    "\n",
    "        for i in range(4):\n",
    "            for j in range(4):\n",
    "                X_idx = format(i,'b').zfill(2)\n",
    "                Y_idx = format(j,'b').zfill(2)\n",
    "                coeff = binary_inputs[i][j]\n",
    "                gate = MCXGate(4,ctrl_state=X_idx+Y_idx)\n",
    "                for index,k in enumerate(coeff):\n",
    "                    if k == '1':\n",
    "                        qc.append(gate,X_index[:]+Y_index[:]+[coeffs[index]])\n",
    "                qc.barrier()\n",
    "        qc.measure_all()\n",
    "        temp_layer.append(qc)\n",
    "    qc_layers.append(temp_layer)\n",
    "            \n"
   ]
  },
  {
   "cell_type": "code",
   "execution_count": 26,
   "metadata": {},
   "outputs": [],
   "source": [
    "all_result = []\n",
    "\n",
    "for z in range(7):\n",
    "    temp_result = []\n",
    "    for m in range(7):\n",
    "        \n",
    "        sampler = Sampler()\n",
    "        qc = qc_layers[z][m]\n",
    "        result = sampler.run(qc).result().quasi_dists[0]\n",
    "        binary_dict = {}\n",
    "\n",
    "        for i in result.keys():\n",
    "            binary_dict[format(i,'b').zfill(10)] = result[i]\n",
    "            \n",
    "        decoded_result = []\n",
    "        \n",
    "        for i in range(4):\n",
    "            temp = []\n",
    "            for j in range(4):\n",
    "                X_idx = format(i,'b').zfill(2)\n",
    "                Y_idx = format(j,'b').zfill(2)\n",
    "                key = X_idx+Y_idx\n",
    "                \n",
    "                for k in binary_dict.keys():\n",
    "                    if k[6:] == key:\n",
    "                        temp.append(int(k[:6],2))\n",
    "            decoded_result.append(temp)        \n",
    "        decoded_result = np.array(decoded_result)*4\n",
    "        temp_result.append(decoded_result)\n",
    "    all_result.append(temp_result)\n",
    "all_result = np.array(all_result)\n",
    "\n",
    "final_res = all_result.reshape(28,28)\n",
    "\n"
   ]
  },
  {
   "cell_type": "code",
   "execution_count": 27,
   "metadata": {},
   "outputs": [
    {
     "name": "stdout",
     "output_type": "stream",
     "text": [
      "Input image\n"
     ]
    },
    {
     "data": {
      "text/plain": [
       "<matplotlib.image.AxesImage at 0x7f94a90551e0>"
      ]
     },
     "execution_count": 27,
     "metadata": {},
     "output_type": "execute_result"
    },
    {
     "data": {
      "image/png": "[encoded data removed]",
      "text/plain": [
       "<Figure size 640x480 with 1 Axes>"
      ]
     },
     "metadata": {},
     "output_type": "display_data"
    }
   ],
   "source": [
    "print('Input image')\n",
    "plt.imshow(test_image)"
   ]
  },
  {
   "cell_type": "code",
   "execution_count": 28,
   "metadata": {},
   "outputs": [
    {
     "name": "stdout",
     "output_type": "stream",
     "text": [
      "Quantum image\n"
     ]
    },
    {
     "data": {
      "text/plain": [
       "<matplotlib.image.AxesImage at 0x7f94a98179a0>"
      ]
     },
     "execution_count": 28,
     "metadata": {},
     "output_type": "execute_result"
    },
    {
     "data": {
      "image/png": "[encoded data removed]",
      "text/plain": [
       "<Figure size 640x480 with 1 Axes>"
      ]
     },
     "metadata": {},
     "output_type": "display_data"
    }
   ],
   "source": [
    "print('Quantum image')\n",
    "plt.imshow(final_res)"
   ]
  }
 ],
 "metadata": {
  "kernelspec": {
   "display_name": "Lee",
   "language": "python",
   "name": "python3"
  },
  "language_info": {
   "codemirror_mode": {
    "name": "ipython",
    "version": 3
   },
   "file_extension": ".py",
   "mimetype": "text/x-python",
   "name": "python",
   "nbconvert_exporter": "python",
   "pygments_lexer": "ipython3",
   "version": "3.10.12"
  }
 },
 "nbformat": 4,
 "nbformat_minor": 2
}
