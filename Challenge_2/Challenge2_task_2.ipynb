{
 "cells": [
  {
   "cell_type": "code",
   "execution_count": 29,
   "metadata": {},
   "outputs": [],
   "source": [
    "from qiskit import *\n",
    "import numpy as np\n",
    "from qiskit.primitives import *\n",
    "from qiskit.circuit import ParameterVector\n",
    "from qiskit.circuit.library import RYGate"
   ]
  },
  {
   "cell_type": "markdown",
   "metadata": {},
   "source": [
    "In this case we have to normalize the value"
   ]
  },
  {
   "cell_type": "code",
   "execution_count": 331,
   "metadata": {},
   "outputs": [
    {
     "name": "stdout",
     "output_type": "stream",
     "text": [
      "Normalizing factor :  14.2828568570857\n",
      "Normalized list : [0.07 0.35 0.14 0.42 0.21 0.49 0.28 0.56]\n"
     ]
    }
   ],
   "source": [
    "inputs = np.array([1,5,2,6,3,7,4,8])\n",
    "Z = np.sqrt(inputs@inputs)\n",
    "norm_inputs = inputs/Z\n",
    "print('Normalizing factor : ', Z)\n",
    "print('Normalized list :',np.round(norm_inputs,3))"
   ]
  },
  {
   "cell_type": "markdown",
   "metadata": {},
   "source": [
    "\n",
    "\n",
    "And we have to embed this value into each index of quantum state\n",
    "\n",
    "When we consider two qubits embedding, there is 4 cases that is\n",
    "\n",
    "00 - > 0\n",
    "01 - > 1\n",
    "10 - > 2\n",
    "11 - > 3\n",
    "\n",
    "and their value is v1,v2,v3,v4\n",
    "\n",
    "so in this case, we have to make the state that is\n",
    "\n",
    "v1|00> + v2|01> +v3|10> + v4|11>\n",
    "\n",
    "and degree of freedom in v1,v2,v3,v4 is 3 because v1,v2,v3,v4 have to Satisfy the normalize condition.\n",
    "\n",
    "And this makes us make a circuit that have 1 single qubit gate and 2 control qubit gates."
   ]
  },
  {
   "cell_type": "code",
   "execution_count": 332,
   "metadata": {},
   "outputs": [],
   "source": [
    "def value_to_angle(value_list):\n",
    "    temp = np.array(value_list.copy())\n",
    "    temp = temp/np.sqrt(temp@temp)\n",
    "    temp = temp**2\n",
    "    temp_dict = {}\n",
    "    \n",
    "    for index,i in enumerate(temp):\n",
    "        temp_dict[format(index,'b').zfill(int(np.log2(len(value_list))))] = i\n",
    "    theta_list = []\n",
    "    \n",
    "    def value_to_theta(dict):\n",
    "        try:\n",
    "            cos = 0\n",
    "            sin = 0 \n",
    "            for i in dict.keys():\n",
    "                if i[-1] == '0':\n",
    "                    cos+=dict[i]\n",
    "                else:\n",
    "                    sin+=dict[i]\n",
    "            theta = np.arccos(np.sqrt(cos))*2\n",
    "            temp_dict1 = {}\n",
    "            temp_dict2 = {}\n",
    "            theta_list.append(theta)\n",
    "            \n",
    "            for i in dict.keys():\n",
    "                if i[-1] == '0':\n",
    "                    temp_dict1[i[:(len(i)-1)]] = dict[i]/(cos+0.0000000001)\n",
    "                else:\n",
    "                    temp_dict2[i[:(len(i)-1)]] = dict[i]/(sin+0.0000000001)\n",
    "            value_to_theta(temp_dict1)\n",
    "            value_to_theta(temp_dict2)\n",
    "        \n",
    "        except:\n",
    "            pass\n",
    "    value_to_theta(temp_dict)\n",
    "    \n",
    "    return theta_list\n",
    "            "
   ]
  },
  {
   "cell_type": "code",
   "execution_count": 333,
   "metadata": {},
   "outputs": [],
   "source": [
    "angles = value_to_angle(inputs)"
   ]
  },
  {
   "cell_type": "code",
   "execution_count": 355,
   "metadata": {},
   "outputs": [],
   "source": [
    "modify = [0,1,4,2,3,5,6]\n",
    "result_angles = []\n",
    "\n",
    "for i in modify:\n",
    "    result_angles.append(angles[i])"
   ]
  },
  {
   "cell_type": "code",
   "execution_count": 356,
   "metadata": {},
   "outputs": [],
   "source": [
    "def reverse(str_):\n",
    "    res = ''\n",
    "    for i in range(len(str_)):\n",
    "        res = res + str_[-(i+1)]\n",
    "    return res"
   ]
  },
  {
   "cell_type": "code",
   "execution_count": 357,
   "metadata": {},
   "outputs": [
    {
     "data": {
      "text/plain": [
       "'11110'"
      ]
     },
     "execution_count": 357,
     "metadata": {},
     "output_type": "execute_result"
    }
   ],
   "source": [
    "reverse('01111')"
   ]
  },
  {
   "cell_type": "code",
   "execution_count": 358,
   "metadata": {},
   "outputs": [],
   "source": [
    "gate = []\n",
    "paramets = ParameterVector('theta',len(inputs))\n",
    "index = 0\n",
    "qc = QuantumCircuit(3)\n",
    "for i in range(3):\n",
    "    for j in range(2**i):\n",
    "        j = format(j,'b').zfill(i)\n",
    "        j = reverse(j)\n",
    "        control_num = i\n",
    "        if control_num == 0:\n",
    "            qc.ry(paramets[0],0)\n",
    "            index += 1\n",
    "        else:\n",
    "            gate = RYGate(paramets[index]).control(control_num,ctrl_state=j)\n",
    "            qc.append(gate,[m for m in range(i+1)]) \n",
    "            index += 1\n",
    "qc.measure_all()   "
   ]
  },
  {
   "cell_type": "code",
   "execution_count": 359,
   "metadata": {},
   "outputs": [
    {
     "data": {
      "image/png": "[encoded data removed]",
      "text/plain": [
       "<Figure size 1082.05x367.889 with 1 Axes>"
      ]
     },
     "execution_count": 359,
     "metadata": {},
     "output_type": "execute_result"
    }
   ],
   "source": [
    "qc.draw('mpl')"
   ]
  },
  {
   "cell_type": "code",
   "execution_count": 360,
   "metadata": {},
   "outputs": [],
   "source": [
    "\n",
    "\n",
    "sampler = Sampler()\n",
    "\n",
    "result = sampler.run(qc,parameter_values=result_angles,shots = 100000).result().quasi_dists[0]\n",
    "\n",
    "Reconst = []\n",
    "\n",
    "for i in result.values():\n",
    "    Reconst.append(np.sqrt(i)*Z)\n",
    "    \n",
    "    "
   ]
  },
  {
   "cell_type": "code",
   "execution_count": 361,
   "metadata": {},
   "outputs": [
    {
     "name": "stdout",
     "output_type": "stream",
     "text": [
      "Inputs :  [1 5 2 6 3 7 4 8]\n",
      "Measure out put : [0.973 5.    1.996 6.013 3.034 6.963 3.969 8.03 ]\n"
     ]
    }
   ],
   "source": [
    "print('Inputs : ', inputs)\n",
    "print('Measure out put :',np.round(Reconst,3))"
   ]
  }
 ],
 "metadata": {
  "kernelspec": {
   "display_name": "Lee",
   "language": "python",
   "name": "python3"
  },
  "language_info": {
   "codemirror_mode": {
    "name": "ipython",
    "version": 3
   },
   "file_extension": ".py",
   "mimetype": "text/x-python",
   "name": "python",
   "nbconvert_exporter": "python",
   "pygments_lexer": "ipython3",
   "version": "3.11.4"
  }
 },
 "nbformat": 4,
 "nbformat_minor": 2
}
