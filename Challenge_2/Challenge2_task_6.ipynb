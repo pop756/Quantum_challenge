{
 "cells": [
  {
   "cell_type": "code",
   "execution_count": 3,
   "metadata": {},
   "outputs": [],
   "source": [
    "from qiskit import *\n",
    "import numpy as np\n",
    "from qiskit.circuit.library import MCXGate\n",
    "from qiskit.primitives import *\n",
    "import numpy as np\n",
    "import matplotlib.pyplot as plt"
   ]
  },
  {
   "cell_type": "code",
   "execution_count": 4,
   "metadata": {},
   "outputs": [],
   "source": [
    "full_image = np.load('./data/images_test_100.npy')"
   ]
  },
  {
   "cell_type": "code",
   "execution_count": 6,
   "metadata": {},
   "outputs": [],
   "source": [
    "test_image = full_image[1]\n",
    "\n",
    "quantum_input = test_image.reshape(7,7,4,4)\n",
    "quantum_input = np.array(quantum_input/4,dtype=int)"
   ]
  },
  {
   "cell_type": "code",
   "execution_count": 7,
   "metadata": {},
   "outputs": [],
   "source": [
    "def data_in_bit(inputs):\n",
    "    res = []\n",
    "    for i in inputs:\n",
    "        temp = []\n",
    "        for j in i:\n",
    "            binary = format(j,'b').zfill(4)\n",
    "            binary = reverse_str(binary)\n",
    "            temp.append(binary)\n",
    "        res.append(temp)\n",
    "    return np.array(res)\n",
    "def reverse_str(str_):\n",
    "    res = ''\n",
    "    for i in range(len(str_)):\n",
    "        res = res + str_[-i-1]\n",
    "    return res"
   ]
  },
  {
   "cell_type": "code",
   "execution_count": 8,
   "metadata": {},
   "outputs": [],
   "source": [
    "X_index = QuantumRegister(2,name='X_layer')\n",
    "Y_index = QuantumRegister(2,name='Y_layer')\n",
    "coeffs = QuantumRegister(6,name='coeffs_layer')\n",
    "\n",
    "def make_qc_layers(quantum_input):\n",
    "    qc_layers = []\n",
    "    for z in range(7):\n",
    "        temp_layer = []\n",
    "        for m in range(7):\n",
    "            binary_inputs = data_in_bit(quantum_input[z][m])\n",
    "            qc = QuantumCircuit(X_index,Y_index,coeffs)\n",
    "\n",
    "            for i in range(2):\n",
    "                qc.h(X_index[i])\n",
    "            for i in range(2):\n",
    "                qc.h(Y_index[i])\n",
    "\n",
    "            for i in range(4):\n",
    "                for j in range(4):\n",
    "                    X_idx = format(i,'b').zfill(2)\n",
    "                    Y_idx = format(j,'b').zfill(2)\n",
    "                    coeff = binary_inputs[i][j]\n",
    "                    gate = MCXGate(4,ctrl_state=X_idx+Y_idx)\n",
    "                    for index,k in enumerate(coeff):\n",
    "                        if k == '1':\n",
    "                            qc.append(gate,X_index[:]+Y_index[:]+[coeffs[index]])\n",
    "            qc.measure_all()\n",
    "            temp_layer.append(qc)\n",
    "        qc_layers.append(temp_layer)\n",
    "    return qc_layers\n",
    "            \n"
   ]
  },
  {
   "cell_type": "code",
   "execution_count": 9,
   "metadata": {},
   "outputs": [],
   "source": [
    "def decoder(qc_layers):\n",
    "    all_result = []\n",
    "\n",
    "    for z in range(7):\n",
    "        temp_result = []\n",
    "        for m in range(7):\n",
    "            \n",
    "            sampler = Sampler()\n",
    "            qc = qc_layers[z][m]\n",
    "            result = sampler.run(qc).result().quasi_dists[0]\n",
    "            binary_dict = {}\n",
    "\n",
    "            for i in result.keys():\n",
    "                binary_dict[format(i,'b').zfill(10)] = result[i]\n",
    "                \n",
    "            decoded_result = []\n",
    "            \n",
    "            for i in range(4):\n",
    "                temp = []\n",
    "                for j in range(4):\n",
    "                    X_idx = format(i,'b').zfill(2)\n",
    "                    Y_idx = format(j,'b').zfill(2)\n",
    "                    key = X_idx+Y_idx\n",
    "                    \n",
    "                    for k in binary_dict.keys():\n",
    "                        if k[6:] == key:\n",
    "                            temp.append(int(k[:6],2))\n",
    "                decoded_result.append(temp)        \n",
    "            decoded_result = np.array(decoded_result)*4\n",
    "            temp_result.append(decoded_result)\n",
    "        all_result.append(temp_result)\n",
    "    all_result = np.array(all_result)\n",
    "\n",
    "    final_res = all_result.reshape(28,28)\n",
    "    return final_res\n",
    "\n"
   ]
  },
  {
   "cell_type": "code",
   "execution_count": 17,
   "metadata": {},
   "outputs": [],
   "source": [
    "def decoder(qc_layers):\n",
    "    all_result = []\n",
    "\n",
    "    for z in range(7):\n",
    "        temp_result = []\n",
    "        for m in range(7):\n",
    "            \n",
    "            sampler = Sampler()\n",
    "            qc = qc_layers[z][m]\n",
    "            result = sampler.run(qc).result().quasi_dists[0]\n",
    "            binary_dict = {}\n",
    "\n",
    "            for i in result.keys():\n",
    "                binary_dict[format(i,'b').zfill(10)] = result[i]\n",
    "                \n",
    "            decoded_result = []\n",
    "            \n",
    "            for i in range(4):\n",
    "                temp = []\n",
    "                for j in range(4):\n",
    "                    X_idx = format(i,'b').zfill(2)\n",
    "                    Y_idx = format(j,'b').zfill(2)\n",
    "                    key = X_idx+Y_idx\n",
    "                    value = []\n",
    "                    prob = 0\n",
    "                    query_list = []\n",
    "                    for k in binary_dict.keys():\n",
    "                        if k[6:] == key:\n",
    "                            value.append(int(k[:6],2))\n",
    "                            prob += binary_dict[k]\n",
    "                            query_list.append(k)\n",
    "                    res = 0\n",
    "                    max_prob = 0\n",
    "                    max_index = 0\n",
    "                    for index in range(len(value)):\n",
    "                        if binary_dict[query_list[index]]>max_prob:\n",
    "                            max_prob = binary_dict[query_list[index]]\n",
    "                            max_index = index\n",
    "                                                        \n",
    "                    temp.append(value[max_index])\n",
    "                decoded_result.append(temp)        \n",
    "            decoded_result = np.array(decoded_result)*4\n",
    "            temp_result.append(decoded_result)\n",
    "        all_result.append(temp_result)\n",
    "    all_result = np.array(all_result)\n",
    "\n",
    "    final_res = all_result.reshape(28,28)\n",
    "    return final_res"
   ]
  },
  {
   "cell_type": "markdown",
   "metadata": {},
   "source": [
    "# Now run on simulator and real QPU"
   ]
  },
  {
   "cell_type": "code",
   "execution_count": 11,
   "metadata": {},
   "outputs": [],
   "source": [
    "from qiskit_ionq import IonQProvider\n",
    "provider = IonQProvider(\"6oJO91HVKgPtmTFhYbjnZxZ4NQ3lENmm\")\n"
   ]
  },
  {
   "cell_type": "code",
   "execution_count": 12,
   "metadata": {},
   "outputs": [
    {
     "name": "stdout",
     "output_type": "stream",
     "text": [
      "[<IonQSimulatorBackend('ionq_simulator')>, <IonQQPUBackend('ionq_qpu')>]\n"
     ]
    }
   ],
   "source": [
    "print(provider.backends())\n",
    "QPU = provider.get_backend(\"ionq_qpu.Area_1\")"
   ]
  },
  {
   "cell_type": "code",
   "execution_count": 13,
   "metadata": {},
   "outputs": [],
   "source": [
    "from qiskit.providers.jobstatus import JobStatus\n",
    "import time\n",
    "from qiskit.transpiler.passes import RemoveBarriers\n",
    "from qiskit.providers.fake_provider import FakeSherbrooke\n",
    "from qiskit import transpile\n",
    "from tqdm import tqdm\n",
    "from qiskit.primitives import BackendSampler\n",
    "backend = FakeSherbrooke()\n",
    "sampler = BackendSampler(backend)\n",
    "def decoder_QPU(qc_layers):\n",
    "    all_result = []\n",
    "\n",
    "    for z in tqdm(range(7)):\n",
    "        temp_result = []\n",
    "        for m in range(7):\n",
    "\n",
    "            qc = qc_layers[z][m]\n",
    "            qc = qc.decompose(reps=10)\n",
    "            qc = transpile(qc)\n",
    "            qc = qc_layers[z][m]\n",
    "            result = sampler.run(qc).result().quasi_dists[0]\n",
    "            binary_dict = {}\n",
    "\n",
    "            for i in result.keys():\n",
    "                binary_dict[format(i,'b').zfill(10)] = result[i]\n",
    "                \n",
    "            decoded_result = []\n",
    "            for i in range(4):\n",
    "                temp = []\n",
    "                for j in range(4):\n",
    "                    X_idx = format(i,'b').zfill(2)\n",
    "                    Y_idx = format(j,'b').zfill(2)\n",
    "                    key = X_idx+Y_idx\n",
    "                    value = []\n",
    "                    prob = 0\n",
    "                    query_list = []\n",
    "                    for k in binary_dict.keys():\n",
    "                        if k[6:] == key:\n",
    "                            value.append(int(k[:6],2))\n",
    "                            prob += binary_dict[k]\n",
    "                            query_list.append(k)\n",
    "                    res = 0\n",
    "                    for index in range(len(value)):\n",
    "                        res += value[index]*binary_dict[query_list[index]]/prob                            \n",
    "                    temp.append(res)\n",
    "                decoded_result.append(temp)        \n",
    "            decoded_result = np.array(decoded_result)*4\n",
    "            temp_result.append(decoded_result)\n",
    "        all_result.append(temp_result)\n",
    "    all_result = np.array(all_result)\n",
    "\n",
    "    final_res = all_result.reshape(28,28)\n",
    "    return final_res"
   ]
  },
  {
   "cell_type": "code",
   "execution_count": 20,
   "metadata": {},
   "outputs": [],
   "source": [
    "from qiskit.providers.jobstatus import JobStatus\n",
    "import time\n",
    "from qiskit.transpiler.passes import RemoveBarriers\n",
    "from qiskit.providers.fake_provider import FakeSherbrooke\n",
    "from qiskit import transpile\n",
    "from tqdm import tqdm\n",
    "from qiskit.primitives import BackendSampler\n",
    "backend = FakeSherbrooke()\n",
    "sampler = BackendSampler(backend)\n",
    "def decoder_QPU_max(qc_layers):\n",
    "    all_result = []\n",
    "\n",
    "    for z in tqdm(range(7)):\n",
    "        temp_result = []\n",
    "        for m in range(7):\n",
    "\n",
    "            qc = qc_layers[z][m]\n",
    "            qc = qc.decompose(reps=10)\n",
    "            qc = transpile(qc)\n",
    "            qc = qc_layers[z][m]\n",
    "            result = sampler.run(qc).result().quasi_dists[0]\n",
    "            binary_dict = {}\n",
    "\n",
    "            for i in result.keys():\n",
    "                binary_dict[format(i,'b').zfill(10)] = result[i]\n",
    "                \n",
    "            decoded_result = []\n",
    "            for i in range(4):\n",
    "                temp = []\n",
    "                for j in range(4):\n",
    "                    X_idx = format(i,'b').zfill(2)\n",
    "                    Y_idx = format(j,'b').zfill(2)\n",
    "                    key = X_idx+Y_idx\n",
    "                    value = []\n",
    "                    prob = 0\n",
    "                    query_list = []\n",
    "                    for k in binary_dict.keys():\n",
    "                        if k[6:] == key:\n",
    "                            value.append(int(k[:6],2))\n",
    "                            prob += binary_dict[k]\n",
    "                            query_list.append(k)\n",
    "                    res = 0\n",
    "                    max_prob = 0\n",
    "                    max_index = 0\n",
    "                    for index in range(len(value)):\n",
    "                        if binary_dict[query_list[index]]>max_prob:\n",
    "                            max_prob = binary_dict[query_list[index]]\n",
    "                            max_index = index\n",
    "                    \n",
    "                    \n",
    "                decoded_result.append(value[max_index])        \n",
    "            decoded_result = np.array(decoded_result)*4\n",
    "            temp_result.append(decoded_result)\n",
    "        all_result.append(temp_result)\n",
    "    all_result = np.array(all_result)\n",
    "\n",
    "    final_res = all_result.reshape(28,28)\n",
    "    return final_res"
   ]
  },
  {
   "cell_type": "code",
   "execution_count": 14,
   "metadata": {},
   "outputs": [],
   "source": [
    "test_set = full_image[5:10]\n",
    "qc_set = []\n",
    "for i in test_set:\n",
    "    quantum_input = i.reshape(7,7,4,4)\n",
    "    quantum_input = np.array(quantum_input/4,dtype=int)\n",
    "    qc_set.append(quantum_input)"
   ]
  },
  {
   "cell_type": "code",
   "execution_count": 18,
   "metadata": {},
   "outputs": [],
   "source": [
    "## Simulator\n",
    "result_set = []\n",
    "for image in qc_set:\n",
    "    qc_layers = make_qc_layers(image)\n",
    "    result_image = decoder(qc_layers)\n",
    "    result_set.append(result_image)"
   ]
  },
  {
   "cell_type": "code",
   "execution_count": 19,
   "metadata": {},
   "outputs": [
    {
     "name": "stdout",
     "output_type": "stream",
     "text": [
      "Simulator result\n"
     ]
    },
    {
     "data": {
      "image/png": "[encoded data removed]",
      "text/plain": [
       "<Figure size 640x480 with 5 Axes>"
      ]
     },
     "metadata": {},
     "output_type": "display_data"
    }
   ],
   "source": [
    "import glob\n",
    "print('Simulator result')\n",
    "fig = plt.figure() \n",
    "rows = 3\n",
    "cols = 2\n",
    "i = 1\n",
    "for image in result_set:\n",
    "    ax = fig.add_subplot(rows, cols, i)\n",
    "    ax.imshow(image)\n",
    "    ax.set_xticks([]), ax.set_yticks([])\n",
    "    i = i+1\n",
    "\n",
    "\n",
    "plt.show()\n"
   ]
  },
  {
   "cell_type": "code",
   "execution_count": 79,
   "metadata": {},
   "outputs": [
    {
     "name": "stderr",
     "output_type": "stream",
     "text": [
      "100%|██████████| 7/7 [02:30<00:00, 21.52s/it]\n",
      "100%|██████████| 7/7 [08:50<00:00, 75.80s/it] \n",
      "100%|██████████| 7/7 [07:20<00:00, 62.90s/it]\n",
      "100%|██████████| 7/7 [07:59<00:00, 68.44s/it]\n",
      "100%|██████████| 7/7 [06:36<00:00, 56.68s/it]\n"
     ]
    }
   ],
   "source": [
    "## Noise_model\n",
    "result_set_noise = []\n",
    "for image in qc_set:\n",
    "    qc_layers = make_qc_layers(image)\n",
    "    result_image = decoder_QPU(qc_layers)\n",
    "    result_set_noise.append(result_image)"
   ]
  },
  {
   "cell_type": "code",
   "execution_count": 80,
   "metadata": {},
   "outputs": [
    {
     "name": "stdout",
     "output_type": "stream",
     "text": [
      "Simulator result\n"
     ]
    },
    {
     "data": {
      "image/png": "[encoded data removed]",
      "text/plain": [
       "<Figure size 640x480 with 5 Axes>"
      ]
     },
     "metadata": {},
     "output_type": "display_data"
    }
   ],
   "source": [
    "## Result of average pooling\n",
    "print('Simulator result')\n",
    "fig = plt.figure() \n",
    "rows = 3\n",
    "cols = 2\n",
    "i = 1\n",
    "for image in result_set_noise:\n",
    "    ax = fig.add_subplot(rows, cols, i)\n",
    "    ax.imshow(image)\n",
    "    ax.set_xticks([]), ax.set_yticks([])\n",
    "    i = i+1\n",
    "\n",
    "\n",
    "plt.show()"
   ]
  },
  {
   "cell_type": "code",
   "execution_count": 21,
   "metadata": {},
   "outputs": [
    {
     "name": "stderr",
     "output_type": "stream",
     "text": [
      " 43%|████▎     | 3/7 [00:31<00:42, 10.69s/it]"
     ]
    }
   ],
   "source": [
    "## Noise_model\n",
    "result_set_noise = []\n",
    "for image in qc_set:\n",
    "    qc_layers = make_qc_layers(image)\n",
    "    result_image = decoder_QPU_max(qc_layers)\n",
    "    result_set_noise.append(result_image)"
   ]
  },
  {
   "cell_type": "code",
   "execution_count": null,
   "metadata": {},
   "outputs": [],
   "source": []
  },
  {
   "cell_type": "code",
   "execution_count": null,
   "metadata": {},
   "outputs": [],
   "source": [
    "## Result of average pooling\n",
    "print('Simulator result')\n",
    "fig = plt.figure() \n",
    "rows = 3\n",
    "cols = 2\n",
    "i = 1\n",
    "for image in result_set_noise:\n",
    "    ax = fig.add_subplot(rows, cols, i)\n",
    "    ax.imshow(image)\n",
    "    ax.set_xticks([]), ax.set_yticks([])\n",
    "    i = i+1\n",
    "\n",
    "\n",
    "plt.show()"
   ]
  }
 ],
 "metadata": {
  "kernelspec": {
   "display_name": "Lee",
   "language": "python",
   "name": "python3"
  },
  "language_info": {
   "codemirror_mode": {
    "name": "ipython",
    "version": 3
   },
   "file_extension": ".py",
   "mimetype": "text/x-python",
   "name": "python",
   "nbconvert_exporter": "python",
   "pygments_lexer": "ipython3",
   "version": "3.10.12"
  }
 },
 "nbformat": 4,
 "nbformat_minor": 2
}
