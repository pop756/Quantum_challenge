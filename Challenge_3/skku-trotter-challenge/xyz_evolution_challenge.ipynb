{
 "cells": [
  {
   "cell_type": "markdown",
   "id": "76263dca-d883-43c3-a483-46edf0c86d0f",
   "metadata": {},
   "source": [
    "### Trotterization challenge\n",
    "\n",
    "This notebook helps you put all your code together-- it implements a loop that computes the staggered magnetization of the spin chain at various time points. Use it to produce plots with your final results."
   ]
  },
  {
   "cell_type": "code",
   "execution_count": 1,
   "id": "85ddbd17-2e31-4cf3-9859-f8120aed4c33",
   "metadata": {},
   "outputs": [
    {
     "ename": "CircuitError",
     "evalue": "'Index 4 out of range for size 4.'",
     "output_type": "error",
     "traceback": [
      "\u001b[1;31m---------------------------------------------------------------------------\u001b[0m",
      "\u001b[1;31mIndexError\u001b[0m                                Traceback (most recent call last)",
      "File \u001b[1;32mc:\\Users\\pop75\\anaconda3\\envs\\Lee\\Lib\\site-packages\\qiskit\\circuit\\quantumcircuit.py:5224\u001b[0m, in \u001b[0;36m_bit_argument_conversion\u001b[1;34m(specifier, bit_sequence, bit_set, type_)\u001b[0m\n\u001b[0;32m   5223\u001b[0m \u001b[39mtry\u001b[39;00m:\n\u001b[1;32m-> 5224\u001b[0m     \u001b[39mreturn\u001b[39;00m [bit_sequence[specifier]]\n\u001b[0;32m   5225\u001b[0m \u001b[39mexcept\u001b[39;00m \u001b[39mIndexError\u001b[39;00m \u001b[39mas\u001b[39;00m ex:\n",
      "\u001b[1;31mIndexError\u001b[0m: list index out of range",
      "\nThe above exception was the direct cause of the following exception:\n",
      "\u001b[1;31mCircuitError\u001b[0m                              Traceback (most recent call last)",
      "\u001b[1;32mc:\\Users\\pop75\\OneDrive\\Desktop\\Quantum_challenge\\Challenge_3\\skku-trotter-challenge\\xyz_evolution_challenge.ipynb Cell 2\u001b[0m line \u001b[0;36m5\n\u001b[0;32m      <a href='vscode-notebook-cell:/c%3A/Users/pop75/OneDrive/Desktop/Quantum_challenge/Challenge_3/skku-trotter-challenge/xyz_evolution_challenge.ipynb#W1sZmlsZQ%3D%3D?line=2'>3</a>\u001b[0m \u001b[39m# Run the TestSuite to make sure everything is working!\u001b[39;00m\n\u001b[0;32m      <a href='vscode-notebook-cell:/c%3A/Users/pop75/OneDrive/Desktop/Quantum_challenge/Challenge_3/skku-trotter-challenge/xyz_evolution_challenge.ipynb#W1sZmlsZQ%3D%3D?line=3'>4</a>\u001b[0m tester \u001b[39m=\u001b[39m XYZEvolutionTestSuite()\n\u001b[1;32m----> <a href='vscode-notebook-cell:/c%3A/Users/pop75/OneDrive/Desktop/Quantum_challenge/Challenge_3/skku-trotter-challenge/xyz_evolution_challenge.ipynb#W1sZmlsZQ%3D%3D?line=4'>5</a>\u001b[0m tester\u001b[39m.\u001b[39;49mrun_test_suite()\n",
      "File \u001b[1;32mc:\\Users\\pop75\\OneDrive\\Desktop\\Quantum_challenge\\Challenge_3\\skku-trotter-challenge\\src\\xyz_evolution_test.py:26\u001b[0m, in \u001b[0;36mXYZEvolutionTestSuite.run_test_suite\u001b[1;34m(self)\u001b[0m\n\u001b[0;32m     19\u001b[0m \u001b[39mdef\u001b[39;00m \u001b[39mrun_test_suite\u001b[39m(\u001b[39mself\u001b[39m):\n\u001b[0;32m     20\u001b[0m     \u001b[39m#self.test_uxz()\u001b[39;00m\n\u001b[0;32m     21\u001b[0m     \u001b[39m#self.test_uxyz()\u001b[39;00m\n\u001b[1;32m   (...)\u001b[0m\n\u001b[0;32m     24\u001b[0m     \u001b[39m#self.test_magnetization_hamiltonian()\u001b[39;00m\n\u001b[0;32m     25\u001b[0m     \u001b[39m#self.test_ybe_update()\u001b[39;00m\n\u001b[1;32m---> 26\u001b[0m     \u001b[39mself\u001b[39;49m\u001b[39m.\u001b[39;49mtest_mirror_update()\n\u001b[0;32m     27\u001b[0m     \u001b[39mself\u001b[39m\u001b[39m.\u001b[39mtest_circuit_compression()\n",
      "File \u001b[1;32mc:\\Users\\pop75\\OneDrive\\Desktop\\Quantum_challenge\\Challenge_3\\skku-trotter-challenge\\src\\xyz_evolution_test.py:142\u001b[0m, in \u001b[0;36mXYZEvolutionTestSuite.test_mirror_update\u001b[1;34m(self, num_points)\u001b[0m\n\u001b[0;32m    137\u001b[0m \u001b[39mdef\u001b[39;00m \u001b[39mtest_mirror_update\u001b[39m(\u001b[39mself\u001b[39m, num_points\u001b[39m=\u001b[39m\u001b[39m3\u001b[39m):\n\u001b[0;32m    138\u001b[0m \u001b[39m    \u001b[39m\u001b[39m\"\"\"\u001b[39;00m\n\u001b[0;32m    139\u001b[0m \u001b[39m    Test your implementation of the mirror update step, which is a sequence\u001b[39;00m\n\u001b[0;32m    140\u001b[0m \u001b[39m    of YBE updates.\u001b[39;00m\n\u001b[0;32m    141\u001b[0m \u001b[39m    \"\"\"\u001b[39;00m\n\u001b[1;32m--> 142\u001b[0m     \u001b[39mself\u001b[39;49m\u001b[39m.\u001b[39;49mtest_qc_param_update(\u001b[39m4\u001b[39;49m, num_points)\n\u001b[0;32m    143\u001b[0m     \u001b[39mprint\u001b[39m(\u001b[39m\"\u001b[39m\u001b[39mMirror update test passed!\u001b[39m\u001b[39m\"\u001b[39m)\n",
      "File \u001b[1;32mc:\\Users\\pop75\\OneDrive\\Desktop\\Quantum_challenge\\Challenge_3\\skku-trotter-challenge\\src\\xyz_evolution_test.py:121\u001b[0m, in \u001b[0;36mXYZEvolutionTestSuite.test_qc_param_update\u001b[1;34m(self, num_qubits, num_points)\u001b[0m\n\u001b[0;32m    118\u001b[0m lhs_params \u001b[39m=\u001b[39m np\u001b[39m.\u001b[39mrandom\u001b[39m.\u001b[39mrand(num_blocks \u001b[39m*\u001b[39m \u001b[39m2\u001b[39m)\n\u001b[0;32m    120\u001b[0m \u001b[39m# Compute parameters for equivalent circuit\u001b[39;00m\n\u001b[1;32m--> 121\u001b[0m rhs_params \u001b[39m=\u001b[39m updater(lhs_params)\n\u001b[0;32m    123\u001b[0m \u001b[39m# Verify we obtain an equivalent circuit\u001b[39;00m\n\u001b[0;32m    124\u001b[0m \u001b[39massert\u001b[39;00m Operator(lhs\u001b[39m.\u001b[39massign_parameters(lhs_params)) \u001b[39m==\u001b[39m Operator(rhs\u001b[39m.\u001b[39massign_parameters(rhs_params)), \u001b[39m\"\u001b[39m\u001b[39mTest failed...\u001b[39m\u001b[39m\"\u001b[39m\n",
      "File \u001b[1;32mc:\\Users\\pop75\\OneDrive\\Desktop\\Quantum_challenge\\Challenge_3\\skku-trotter-challenge\\src\\circuit_compressor.py:144\u001b[0m, in \u001b[0;36mCircuitCompressor.get_mirror_update\u001b[1;34m(self, params, l2r)\u001b[0m\n\u001b[0;32m    142\u001b[0m index \u001b[39m=\u001b[39m index\u001b[39m%\u001b[39m( target_qc\u001b[39m.\u001b[39mnum_qubits\u001b[39m-\u001b[39m\u001b[39m1\u001b[39m)\n\u001b[0;32m    143\u001b[0m \u001b[39mif\u001b[39;00m index\u001b[39m<\u001b[39m\u001b[39mint\u001b[39m(target_qc\u001b[39m.\u001b[39mnum_qubits\u001b[39m/\u001b[39m\u001b[39m2\u001b[39m):\n\u001b[1;32m--> 144\u001b[0m     target_qc\u001b[39m.\u001b[39;49muxz(\u001b[39m*\u001b[39;49mparam, \u001b[39m2\u001b[39;49m\u001b[39m*\u001b[39;49mindex\u001b[39m+\u001b[39;49m\u001b[39m1\u001b[39;49m, \u001b[39m2\u001b[39;49m\u001b[39m*\u001b[39;49mindex \u001b[39m+\u001b[39;49m \u001b[39m2\u001b[39;49m)\n\u001b[0;32m    145\u001b[0m \u001b[39melse\u001b[39;00m:\n\u001b[0;32m    146\u001b[0m     index \u001b[39m=\u001b[39m index \u001b[39m-\u001b[39m \u001b[39mint\u001b[39m(target_qc\u001b[39m.\u001b[39mnum_qubits\u001b[39m/\u001b[39m\u001b[39m2\u001b[39m)\n",
      "File \u001b[1;32mc:\\Users\\pop75\\OneDrive\\Desktop\\Quantum_challenge\\Challenge_3\\skku-trotter-challenge\\src\\xyz_evolution.py:78\u001b[0m, in \u001b[0;36mXYZEvolutionCircuit.uxz\u001b[1;34m(self, gamma, delta, qubit1, qubit2)\u001b[0m\n\u001b[0;32m     59\u001b[0m \u001b[39m\u001b[39m\u001b[39mr\u001b[39m\u001b[39m\"\"\"\u001b[39;00m\n\u001b[0;32m     60\u001b[0m \u001b[39mApply the parametrized :class:`.UXZGate` onto ``qubit1`` and ``qubit2``.\u001b[39;00m\n\u001b[0;32m     61\u001b[0m \u001b[39m\u001b[39;00m\n\u001b[1;32m   (...)\u001b[0m\n\u001b[0;32m     75\u001b[0m \u001b[39m                 └──────┘\u001b[39;00m\n\u001b[0;32m     76\u001b[0m \u001b[39m\"\"\"\u001b[39;00m\n\u001b[0;32m     77\u001b[0m time_prop \u001b[39m=\u001b[39m UXZGate(gamma, delta)\u001b[39m.\u001b[39mto_instruction()\n\u001b[1;32m---> 78\u001b[0m \u001b[39mreturn\u001b[39;00m \u001b[39mself\u001b[39;49m\u001b[39m.\u001b[39;49mappend(time_prop, [qubit1, qubit2])\n",
      "File \u001b[1;32mc:\\Users\\pop75\\anaconda3\\envs\\Lee\\Lib\\site-packages\\qiskit\\circuit\\quantumcircuit.py:1278\u001b[0m, in \u001b[0;36mQuantumCircuit.append\u001b[1;34m(self, instruction, qargs, cargs)\u001b[0m\n\u001b[0;32m   1275\u001b[0m     \u001b[39mif\u001b[39;00m is_parameter:\n\u001b[0;32m   1276\u001b[0m         operation \u001b[39m=\u001b[39m copy\u001b[39m.\u001b[39mdeepcopy(operation)\n\u001b[1;32m-> 1278\u001b[0m expanded_qargs \u001b[39m=\u001b[39m [\u001b[39mself\u001b[39;49m\u001b[39m.\u001b[39;49mqbit_argument_conversion(qarg) \u001b[39mfor\u001b[39;49;00m qarg \u001b[39min\u001b[39;49;00m qargs \u001b[39mor\u001b[39;49;00m []]\n\u001b[0;32m   1279\u001b[0m expanded_cargs \u001b[39m=\u001b[39m [\u001b[39mself\u001b[39m\u001b[39m.\u001b[39mcbit_argument_conversion(carg) \u001b[39mfor\u001b[39;00m carg \u001b[39min\u001b[39;00m cargs \u001b[39mor\u001b[39;00m []]\n\u001b[0;32m   1281\u001b[0m \u001b[39mif\u001b[39;00m \u001b[39mself\u001b[39m\u001b[39m.\u001b[39m_control_flow_scopes:\n",
      "File \u001b[1;32mc:\\Users\\pop75\\anaconda3\\envs\\Lee\\Lib\\site-packages\\qiskit\\circuit\\quantumcircuit.py:1278\u001b[0m, in \u001b[0;36m<listcomp>\u001b[1;34m(.0)\u001b[0m\n\u001b[0;32m   1275\u001b[0m     \u001b[39mif\u001b[39;00m is_parameter:\n\u001b[0;32m   1276\u001b[0m         operation \u001b[39m=\u001b[39m copy\u001b[39m.\u001b[39mdeepcopy(operation)\n\u001b[1;32m-> 1278\u001b[0m expanded_qargs \u001b[39m=\u001b[39m [\u001b[39mself\u001b[39;49m\u001b[39m.\u001b[39;49mqbit_argument_conversion(qarg) \u001b[39mfor\u001b[39;00m qarg \u001b[39min\u001b[39;00m qargs \u001b[39mor\u001b[39;00m []]\n\u001b[0;32m   1279\u001b[0m expanded_cargs \u001b[39m=\u001b[39m [\u001b[39mself\u001b[39m\u001b[39m.\u001b[39mcbit_argument_conversion(carg) \u001b[39mfor\u001b[39;00m carg \u001b[39min\u001b[39;00m cargs \u001b[39mor\u001b[39;00m []]\n\u001b[0;32m   1281\u001b[0m \u001b[39mif\u001b[39;00m \u001b[39mself\u001b[39m\u001b[39m.\u001b[39m_control_flow_scopes:\n",
      "File \u001b[1;32mc:\\Users\\pop75\\anaconda3\\envs\\Lee\\Lib\\site-packages\\qiskit\\circuit\\quantumcircuit.py:1149\u001b[0m, in \u001b[0;36mQuantumCircuit.qbit_argument_conversion\u001b[1;34m(self, qubit_representation)\u001b[0m\n\u001b[0;32m   1138\u001b[0m \u001b[39mdef\u001b[39;00m \u001b[39mqbit_argument_conversion\u001b[39m(\u001b[39mself\u001b[39m, qubit_representation: QubitSpecifier) \u001b[39m-\u001b[39m\u001b[39m>\u001b[39m \u001b[39mlist\u001b[39m[Qubit]:\n\u001b[0;32m   1139\u001b[0m \u001b[39m    \u001b[39m\u001b[39m\"\"\"\u001b[39;00m\n\u001b[0;32m   1140\u001b[0m \u001b[39m    Converts several qubit representations (such as indexes, range, etc.)\u001b[39;00m\n\u001b[0;32m   1141\u001b[0m \u001b[39m    into a list of qubits.\u001b[39;00m\n\u001b[1;32m   (...)\u001b[0m\n\u001b[0;32m   1147\u001b[0m \u001b[39m        List(Qubit): the resolved instances of the qubits.\u001b[39;00m\n\u001b[0;32m   1148\u001b[0m \u001b[39m    \"\"\"\u001b[39;00m\n\u001b[1;32m-> 1149\u001b[0m     \u001b[39mreturn\u001b[39;00m _bit_argument_conversion(\n\u001b[0;32m   1150\u001b[0m         qubit_representation, \u001b[39mself\u001b[39;49m\u001b[39m.\u001b[39;49mqubits, \u001b[39mself\u001b[39;49m\u001b[39m.\u001b[39;49m_qubit_indices, Qubit\n\u001b[0;32m   1151\u001b[0m     )\n",
      "File \u001b[1;32mc:\\Users\\pop75\\anaconda3\\envs\\Lee\\Lib\\site-packages\\qiskit\\circuit\\quantumcircuit.py:5226\u001b[0m, in \u001b[0;36m_bit_argument_conversion\u001b[1;34m(specifier, bit_sequence, bit_set, type_)\u001b[0m\n\u001b[0;32m   5224\u001b[0m         \u001b[39mreturn\u001b[39;00m [bit_sequence[specifier]]\n\u001b[0;32m   5225\u001b[0m     \u001b[39mexcept\u001b[39;00m \u001b[39mIndexError\u001b[39;00m \u001b[39mas\u001b[39;00m ex:\n\u001b[1;32m-> 5226\u001b[0m         \u001b[39mraise\u001b[39;00m CircuitError(\n\u001b[0;32m   5227\u001b[0m             \u001b[39mf\u001b[39m\u001b[39m\"\u001b[39m\u001b[39mIndex \u001b[39m\u001b[39m{\u001b[39;00mspecifier\u001b[39m}\u001b[39;00m\u001b[39m out of range for size \u001b[39m\u001b[39m{\u001b[39;00m\u001b[39mlen\u001b[39m(bit_sequence)\u001b[39m}\u001b[39;00m\u001b[39m.\u001b[39m\u001b[39m\"\u001b[39m\n\u001b[0;32m   5228\u001b[0m         ) \u001b[39mfrom\u001b[39;00m \u001b[39mex\u001b[39;00m\n\u001b[0;32m   5229\u001b[0m \u001b[39m# Slices can't raise IndexError - they just return an empty list.\u001b[39;00m\n\u001b[0;32m   5230\u001b[0m \u001b[39mif\u001b[39;00m \u001b[39misinstance\u001b[39m(specifier, \u001b[39mslice\u001b[39m):\n",
      "\u001b[1;31mCircuitError\u001b[0m: 'Index 4 out of range for size 4.'"
     ]
    }
   ],
   "source": [
    "from src.xyz_evolution_test import XYZEvolutionTestSuite\n",
    "\n",
    "# Run the TestSuite to make sure everything is working!\n",
    "tester = XYZEvolutionTestSuite()\n",
    "tester.run_test_suite()"
   ]
  },
  {
   "cell_type": "code",
   "execution_count": null,
   "id": "5b04f885-f934-4b0f-90d3-9aed8505c753",
   "metadata": {},
   "outputs": [],
   "source": [
    "from qiskit_aer import Aer\n",
    "from qiskit_ionq import IonQProvider\n",
    "\n",
    "# Get ideal (noiseless) simulator backend\n",
    "ideal = Aer.get_backend(\"aer_simulator\")\n",
    "\n",
    "# Set up the IonQ Cloud provider\n",
    "# Plug in your own API key!\n",
    "API_KEY = \"\"\n",
    "provider = IonQProvider(token=API_KEY)\n",
    "\n",
    "# Request a noisy simulator backend\n",
    "noisy = provider.get_backend(\"ionq_simulator\")\n",
    "noisy.options.noise_model = \"aria-1\""
   ]
  },
  {
   "cell_type": "code",
   "execution_count": null,
   "id": "08a75611-0188-4ba6-99c1-37911c9f04af",
   "metadata": {
    "scrolled": true
   },
   "outputs": [],
   "source": [
    "import numpy as np\n",
    "from itertools import product\n",
    "from qiskit import QuantumCircuit\n",
    "\n",
    "from src.circuit_compressor import CircuitCompressor\n",
    "from src.staggered_magnetization import StaggeredMagnetization\n",
    "from src.xyz_evolution import XYZEvolutionCircuit\n",
    "from tqdm import tqdm\n",
    "\n",
    "# Define the evolution parameters\n",
    "num_qubits = 4\n",
    "J = 3 * np.array([-0.8, 0, -0.2])\n",
    "\n",
    "# Get a StaggeredMagnetization object\n",
    "stag_mag = StaggeredMagnetization(num_qubits)\n",
    "\n",
    "# Construct the Neel initial state\n",
    "initial_state = QuantumCircuit(num_qubits)\n",
    "[initial_state.x(j) for j in range(num_qubits) if j % 2]\n",
    "\n",
    "# Compute staggered magnetization for each time point\n",
    "num_steps = 11\n",
    "ms_hist = np.zeros((num_steps, 4))\n",
    "for n, t in tqdm(enumerate(np.linspace(0, 2.5, num_steps))):\n",
    "    # Construct the evolution circuit and compress it\n",
    "    xyz_evolution_qc = XYZEvolutionCircuit(num_qubits, J, 0, t, n)\n",
    "    compressed_qc = CircuitCompressor(xyz_evolution_qc).compress_circuit()\n",
    "    \n",
    "    # Execute circuits circuits on the backend\n",
    "    for j, (qc, backend) in enumerate(product([xyz_evolution_qc, compressed_qc], [ideal, noisy])):\n",
    "        qc = initial_state.compose(qc)\n",
    "        qc.measure_all()\n",
    "        qc = qc.decompose([\"Uxz\", \"Uxyz\"])\n",
    "\n",
    "        measurements = backend.run(qc, shots=8192).result().get_counts()\n",
    "        ms_hist[n, j] = stag_mag(measurements)"
   ]
  },
  {
   "cell_type": "markdown",
   "id": "58f4f082-51db-4a24-b57b-b78d6ec100af",
   "metadata": {},
   "source": [
    "Now plot your results!"
   ]
  },
  {
   "cell_type": "code",
   "execution_count": null,
   "id": "6db409c1-3349-4c6f-8c9f-e422c88f8e13",
   "metadata": {},
   "outputs": [],
   "source": [
    "import matplotlib.pyplot as plt\n",
    "\n",
    "fig = plt.figure()\n",
    "plt.plot(ms_hist, \"o\", label=[\"Ideal\", \"Noisy Harmony\", \"Compressed\", \"Noisy compressed\"])\n",
    "plt.xticks(np.arange(0, num_steps, 10))\n",
    "plt.title(r\"Trotterized time-evolution for $XY$-Hamiltonian\")\n",
    "plt.ylabel(\"Staggered magnetization\")\n",
    "plt.xlabel(\"Steps\")\n",
    "plt.legend(bbox_to_anchor=(1.05, 1), loc='upper left', borderaxespad=0)\n",
    "plt.show()"
   ]
  },
  {
   "cell_type": "code",
   "execution_count": null,
   "id": "552b6649-8bb0-49e7-bea7-0c3c6f6db646",
   "metadata": {},
   "outputs": [],
   "source": [
    "# Save your figure!\n",
    "# fig.savefig(f\"{num_qubits}_qubits_compression_example.png\")"
   ]
  },
  {
   "cell_type": "code",
   "execution_count": null,
   "id": "2da2fb44-02a7-4550-9e8b-ed6d935a59a3",
   "metadata": {},
   "outputs": [],
   "source": [
    "# Checkout the compressed circuit\n",
    "qc.draw(fold=-1)"
   ]
  },
  {
   "cell_type": "code",
   "execution_count": null,
   "id": "0248507f-79d4-4257-b6d8-8b519faa4d93",
   "metadata": {},
   "outputs": [],
   "source": []
  }
 ],
 "metadata": {
  "kernelspec": {
   "display_name": "Python 3 (ipykernel)",
   "language": "python",
   "name": "python3"
  },
  "language_info": {
   "codemirror_mode": {
    "name": "ipython",
    "version": 3
   },
   "file_extension": ".py",
   "mimetype": "text/x-python",
   "name": "python",
   "nbconvert_exporter": "python",
   "pygments_lexer": "ipython3",
   "version": "3.11.4"
  }
 },
 "nbformat": 4,
 "nbformat_minor": 5
}
