{
 "cells": [
  {
   "cell_type": "markdown",
   "id": "76263dca-d883-43c3-a483-46edf0c86d0f",
   "metadata": {},
   "source": [
    "### Trotterization challenge\n",
    "\n",
    "This notebook helps you put all your code together-- it implements a loop that computes the staggered magnetization of the spin chain at various time points. Use it to produce plots with your final results."
   ]
  },
  {
   "cell_type": "code",
   "execution_count": 1,
   "id": "85ddbd17-2e31-4cf3-9859-f8120aed4c33",
   "metadata": {},
   "outputs": [
    {
     "ename": "AssertionError",
     "evalue": "Test failed...",
     "output_type": "error",
     "traceback": [
      "\u001b[1;31m---------------------------------------------------------------------------\u001b[0m",
      "\u001b[1;31mAssertionError\u001b[0m                            Traceback (most recent call last)",
      "\u001b[1;32m~\\AppData\\Local\\Temp\\ipykernel_26632\\1200112524.py\u001b[0m in \u001b[0;36m<module>\u001b[1;34m\u001b[0m\n\u001b[0;32m      3\u001b[0m \u001b[1;31m# Run the TestSuite to make sure everything is working!\u001b[0m\u001b[1;33m\u001b[0m\u001b[1;33m\u001b[0m\u001b[1;33m\u001b[0m\u001b[0m\n\u001b[0;32m      4\u001b[0m \u001b[0mtester\u001b[0m \u001b[1;33m=\u001b[0m \u001b[0mXYZEvolutionTestSuite\u001b[0m\u001b[1;33m(\u001b[0m\u001b[1;33m)\u001b[0m\u001b[1;33m\u001b[0m\u001b[1;33m\u001b[0m\u001b[0m\n\u001b[1;32m----> 5\u001b[1;33m \u001b[0mtester\u001b[0m\u001b[1;33m.\u001b[0m\u001b[0mrun_test_suite\u001b[0m\u001b[1;33m(\u001b[0m\u001b[1;33m)\u001b[0m\u001b[1;33m\u001b[0m\u001b[1;33m\u001b[0m\u001b[0m\n\u001b[0m",
      "\u001b[1;32mc:\\Users\\pad33\\OneDrive\\바탕 화면\\skku-trotter-challenge\\src\\xyz_evolution_test.py\u001b[0m in \u001b[0;36mrun_test_suite\u001b[1;34m(self)\u001b[0m\n\u001b[0;32m     18\u001b[0m \u001b[1;33m\u001b[0m\u001b[0m\n\u001b[0;32m     19\u001b[0m     \u001b[1;32mdef\u001b[0m \u001b[0mrun_test_suite\u001b[0m\u001b[1;33m(\u001b[0m\u001b[0mself\u001b[0m\u001b[1;33m)\u001b[0m\u001b[1;33m:\u001b[0m\u001b[1;33m\u001b[0m\u001b[1;33m\u001b[0m\u001b[0m\n\u001b[1;32m---> 20\u001b[1;33m         \u001b[0mself\u001b[0m\u001b[1;33m.\u001b[0m\u001b[0mtest_uxz\u001b[0m\u001b[1;33m(\u001b[0m\u001b[1;33m)\u001b[0m\u001b[1;33m\u001b[0m\u001b[1;33m\u001b[0m\u001b[0m\n\u001b[0m\u001b[0;32m     21\u001b[0m         \u001b[0mself\u001b[0m\u001b[1;33m.\u001b[0m\u001b[0mtest_uxyz\u001b[0m\u001b[1;33m(\u001b[0m\u001b[1;33m)\u001b[0m\u001b[1;33m\u001b[0m\u001b[1;33m\u001b[0m\u001b[0m\n\u001b[0;32m     22\u001b[0m         \u001b[0mself\u001b[0m\u001b[1;33m.\u001b[0m\u001b[0mtest_xyz_evolution\u001b[0m\u001b[1;33m(\u001b[0m\u001b[1;33m)\u001b[0m\u001b[1;33m\u001b[0m\u001b[1;33m\u001b[0m\u001b[0m\n",
      "\u001b[1;32mc:\\Users\\pad33\\OneDrive\\바탕 화면\\skku-trotter-challenge\\src\\xyz_evolution_test.py\u001b[0m in \u001b[0;36mtest_uxz\u001b[1;34m(self, num_points)\u001b[0m\n\u001b[0;32m     46\u001b[0m         \"\"\"\n\u001b[0;32m     47\u001b[0m         \u001b[1;32mfor\u001b[0m \u001b[0mgamma\u001b[0m\u001b[1;33m,\u001b[0m \u001b[0mdelta\u001b[0m \u001b[1;32min\u001b[0m \u001b[0mproduct\u001b[0m\u001b[1;33m(\u001b[0m\u001b[0mnp\u001b[0m\u001b[1;33m.\u001b[0m\u001b[0mlinspace\u001b[0m\u001b[1;33m(\u001b[0m\u001b[1;33m-\u001b[0m\u001b[1;36m2\u001b[0m\u001b[1;33m*\u001b[0m\u001b[0mnp\u001b[0m\u001b[1;33m.\u001b[0m\u001b[0mpi\u001b[0m\u001b[1;33m,\u001b[0m \u001b[1;36m2\u001b[0m\u001b[1;33m*\u001b[0m\u001b[0mnp\u001b[0m\u001b[1;33m.\u001b[0m\u001b[0mpi\u001b[0m\u001b[1;33m,\u001b[0m \u001b[0mnum_points\u001b[0m\u001b[1;33m)\u001b[0m\u001b[1;33m,\u001b[0m \u001b[0mrepeat\u001b[0m\u001b[1;33m=\u001b[0m\u001b[1;36m2\u001b[0m\u001b[1;33m)\u001b[0m\u001b[1;33m:\u001b[0m\u001b[1;33m\u001b[0m\u001b[1;33m\u001b[0m\u001b[0m\n\u001b[1;32m---> 48\u001b[1;33m             \u001b[0mself\u001b[0m\u001b[1;33m.\u001b[0m\u001b[0m_test_time_propagator_circuit\u001b[0m\u001b[1;33m(\u001b[0m\u001b[0mUXZGate\u001b[0m\u001b[1;33m(\u001b[0m\u001b[0mgamma\u001b[0m\u001b[1;33m,\u001b[0m \u001b[0mdelta\u001b[0m\u001b[1;33m)\u001b[0m\u001b[1;33m,\u001b[0m \u001b[1;33m[\u001b[0m\u001b[0mgamma\u001b[0m\u001b[1;33m,\u001b[0m \u001b[1;36m0\u001b[0m\u001b[1;33m,\u001b[0m \u001b[0mdelta\u001b[0m\u001b[1;33m]\u001b[0m\u001b[1;33m)\u001b[0m\u001b[1;33m\u001b[0m\u001b[1;33m\u001b[0m\u001b[0m\n\u001b[0m\u001b[0;32m     49\u001b[0m         \u001b[0mprint\u001b[0m\u001b[1;33m(\u001b[0m\u001b[1;34m\"Uxz test passed!\"\u001b[0m\u001b[1;33m)\u001b[0m\u001b[1;33m\u001b[0m\u001b[1;33m\u001b[0m\u001b[0m\n\u001b[0;32m     50\u001b[0m \u001b[1;33m\u001b[0m\u001b[0m\n",
      "\u001b[1;32mc:\\Users\\pad33\\OneDrive\\바탕 화면\\skku-trotter-challenge\\src\\xyz_evolution_test.py\u001b[0m in \u001b[0;36m_test_time_propagator_circuit\u001b[1;34m(self, qc, J, h, t, tol)\u001b[0m\n\u001b[0;32m     96\u001b[0m \u001b[1;33m\u001b[0m\u001b[0m\n\u001b[0;32m     97\u001b[0m         \u001b[0mtime_prop\u001b[0m \u001b[1;33m=\u001b[0m \u001b[0mexpm\u001b[0m\u001b[1;33m(\u001b[0m\u001b[1;33m-\u001b[0m\u001b[1;36m1j\u001b[0m\u001b[1;33m/\u001b[0m\u001b[1;36m2\u001b[0m \u001b[1;33m*\u001b[0m \u001b[0mt\u001b[0m \u001b[1;33m*\u001b[0m \u001b[0mhamiltonian\u001b[0m\u001b[1;33m.\u001b[0m\u001b[0mto_matrix\u001b[0m\u001b[1;33m(\u001b[0m\u001b[1;33m)\u001b[0m\u001b[1;33m)\u001b[0m\u001b[1;33m\u001b[0m\u001b[1;33m\u001b[0m\u001b[0m\n\u001b[1;32m---> 98\u001b[1;33m         \u001b[1;32massert\u001b[0m \u001b[0mnp\u001b[0m\u001b[1;33m.\u001b[0m\u001b[0mallclose\u001b[0m\u001b[1;33m(\u001b[0m\u001b[0mOperator\u001b[0m\u001b[1;33m(\u001b[0m\u001b[0mqc\u001b[0m\u001b[1;33m)\u001b[0m\u001b[1;33m.\u001b[0m\u001b[0mdata\u001b[0m\u001b[1;33m,\u001b[0m \u001b[0mtime_prop\u001b[0m\u001b[1;33m,\u001b[0m \u001b[0matol\u001b[0m\u001b[1;33m=\u001b[0m\u001b[0mtol\u001b[0m\u001b[1;33m)\u001b[0m\u001b[1;33m,\u001b[0m \u001b[1;34m\"Test failed...\"\u001b[0m\u001b[1;33m\u001b[0m\u001b[1;33m\u001b[0m\u001b[0m\n\u001b[0m\u001b[0;32m     99\u001b[0m \u001b[1;33m\u001b[0m\u001b[0m\n\u001b[0;32m    100\u001b[0m     \u001b[1;32mdef\u001b[0m \u001b[0mtest_qc_param_update\u001b[0m\u001b[1;33m(\u001b[0m\u001b[0mself\u001b[0m\u001b[1;33m,\u001b[0m \u001b[0mnum_qubits\u001b[0m\u001b[1;33m,\u001b[0m \u001b[0mnum_points\u001b[0m\u001b[1;33m=\u001b[0m\u001b[1;36m3\u001b[0m\u001b[1;33m)\u001b[0m\u001b[1;33m:\u001b[0m\u001b[1;33m\u001b[0m\u001b[1;33m\u001b[0m\u001b[0m\n",
      "\u001b[1;31mAssertionError\u001b[0m: Test failed..."
     ]
    }
   ],
   "source": [
    "from src.xyz_evolution_test import XYZEvolutionTestSuite\n",
    "\n",
    "# Run the TestSuite to make sure everything is working!\n",
    "tester = XYZEvolutionTestSuite()\n",
    "tester.run_test_suite()"
   ]
  },
  {
   "cell_type": "code",
   "execution_count": null,
   "id": "5b04f885-f934-4b0f-90d3-9aed8505c753",
   "metadata": {},
   "outputs": [],
   "source": [
    "from qiskit_aer import Aer\n",
    "from qiskit_ionq import IonQProvider\n",
    "\n",
    "# Get ideal (noiseless) simulator backend\n",
    "ideal = Aer.get_backend(\"aer_simulator\")\n",
    "\n",
    "# Set up the IonQ Cloud provider\n",
    "# Plug in your own API key!\n",
    "API_KEY = \"\"\n",
    "provider = IonQProvider(token=API_KEY)\n",
    "\n",
    "# Request a noisy simulator backend\n",
    "noisy = provider.get_backend(\"ionq_simulator\")\n",
    "noisy.options.noise_model = \"aria-1\""
   ]
  },
  {
   "cell_type": "code",
   "execution_count": null,
   "id": "08a75611-0188-4ba6-99c1-37911c9f04af",
   "metadata": {
    "scrolled": true
   },
   "outputs": [],
   "source": [
    "import numpy as np\n",
    "from itertools import product\n",
    "from qiskit import QuantumCircuit\n",
    "\n",
    "from src.circuit_compressor import CircuitCompressor\n",
    "from src.staggered_magnetization import StaggeredMagnetization\n",
    "from src.xyz_evolution import XYZEvolutionCircuit\n",
    "from tqdm import tqdm\n",
    "\n",
    "# Define the evolution parameters\n",
    "num_qubits = 4\n",
    "J = 3 * np.array([-0.8, 0, -0.2])\n",
    "\n",
    "# Get a StaggeredMagnetization object\n",
    "stag_mag = StaggeredMagnetization(num_qubits)\n",
    "\n",
    "# Construct the Neel initial state\n",
    "initial_state = QuantumCircuit(num_qubits)\n",
    "[initial_state.x(j) for j in range(num_qubits) if j % 2]\n",
    "\n",
    "# Compute staggered magnetization for each time point\n",
    "num_steps = 11\n",
    "ms_hist = np.zeros((num_steps, 4))\n",
    "for n, t in tqdm(enumerate(np.linspace(0, 2.5, num_steps))):\n",
    "    # Construct the evolution circuit and compress it\n",
    "    xyz_evolution_qc = XYZEvolutionCircuit(num_qubits, J, 0, t, n)\n",
    "    compressed_qc = CircuitCompressor(xyz_evolution_qc).compress_circuit()\n",
    "    \n",
    "    # Execute circuits circuits on the backend\n",
    "    for j, (qc, backend) in enumerate(product([xyz_evolution_qc, compressed_qc], [ideal, noisy])):\n",
    "        qc = initial_state.compose(qc)\n",
    "        qc.measure_all()\n",
    "        qc = qc.decompose([\"Uxz\", \"Uxyz\"])\n",
    "\n",
    "        measurements = backend.run(qc, shots=8192).result().get_counts()\n",
    "        ms_hist[n, j] = stag_mag(measurements)"
   ]
  },
  {
   "cell_type": "markdown",
   "id": "58f4f082-51db-4a24-b57b-b78d6ec100af",
   "metadata": {},
   "source": [
    "Now plot your results!"
   ]
  },
  {
   "cell_type": "code",
   "execution_count": null,
   "id": "6db409c1-3349-4c6f-8c9f-e422c88f8e13",
   "metadata": {},
   "outputs": [],
   "source": [
    "import matplotlib.pyplot as plt\n",
    "\n",
    "fig = plt.figure()\n",
    "plt.plot(ms_hist, \"o\", label=[\"Ideal\", \"Noisy Harmony\", \"Compressed\", \"Noisy compressed\"])\n",
    "plt.xticks(np.arange(0, num_steps, 10))\n",
    "plt.title(r\"Trotterized time-evolution for $XY$-Hamiltonian\")\n",
    "plt.ylabel(\"Staggered magnetization\")\n",
    "plt.xlabel(\"Steps\")\n",
    "plt.legend(bbox_to_anchor=(1.05, 1), loc='upper left', borderaxespad=0)\n",
    "plt.show()"
   ]
  },
  {
   "cell_type": "code",
   "execution_count": null,
   "id": "552b6649-8bb0-49e7-bea7-0c3c6f6db646",
   "metadata": {},
   "outputs": [],
   "source": [
    "# Save your figure!\n",
    "# fig.savefig(f\"{num_qubits}_qubits_compression_example.png\")"
   ]
  },
  {
   "cell_type": "code",
   "execution_count": null,
   "id": "2da2fb44-02a7-4550-9e8b-ed6d935a59a3",
   "metadata": {},
   "outputs": [],
   "source": [
    "# Checkout the compressed circuit\n",
    "qc.draw(fold=-1)"
   ]
  },
  {
   "cell_type": "code",
   "execution_count": null,
   "id": "0248507f-79d4-4257-b6d8-8b519faa4d93",
   "metadata": {},
   "outputs": [],
   "source": []
  }
 ],
 "metadata": {
  "kernelspec": {
   "display_name": "Python 3 (ipykernel)",
   "language": "python",
   "name": "python3"
  },
  "language_info": {
   "codemirror_mode": {
    "name": "ipython",
    "version": 3
   },
   "file_extension": ".py",
   "mimetype": "text/x-python",
   "name": "python",
   "nbconvert_exporter": "python",
   "pygments_lexer": "ipython3",
   "version": "3.7.16"
  }
 },
 "nbformat": 4,
 "nbformat_minor": 5
}
